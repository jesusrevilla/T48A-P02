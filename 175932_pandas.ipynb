{
  "cells": [
    {
      "cell_type": "markdown",
      "metadata": {
        "id": "view-in-github",
        "colab_type": "text"
      },
      "source": [
        "<a href=\"https://colab.research.google.com/github/armekmc54-ops/175932/blob/future%2F175932/175932_pandas.ipynb\" target=\"_parent\"><img src=\"https://colab.research.google.com/assets/colab-badge.svg\" alt=\"Open In Colab\"/></a>"
      ]
    },
    {
      "cell_type": "markdown",
      "id": "73e2525b",
      "metadata": {
        "id": "73e2525b"
      },
      "source": [
        "# Ejercicios de Pandas con pruebas usando doctest\n",
        "Cada función incluye pruebas en su docstring que se pueden ejecutar con el módulo `doctest`."
      ]
    },
    {
      "cell_type": "code",
      "execution_count": 1,
      "id": "fa6ec035",
      "metadata": {
        "id": "fa6ec035"
      },
      "outputs": [],
      "source": [
        "\n",
        "import pandas as pd\n",
        "import doctest\n"
      ]
    },
    {
      "cell_type": "code",
      "execution_count": 2,
      "id": "b71d2c5d",
      "metadata": {
        "id": "b71d2c5d"
      },
      "outputs": [],
      "source": [
        "\n",
        "def crear_serie(lista):\n",
        "    \"\"\"\n",
        "    Crea una Serie de Pandas a partir de una lista.\n",
        "\n",
        "    >>> crear_serie([1, 2, 3]).tolist()\n",
        "    [1, 2, 3]\n",
        "    \"\"\"\n",
        "    assert isinstance(lista, list), \"La entrada debe ser una lista\"\n",
        "    return pd.Series(lista)\n"
      ]
    },
    {
      "cell_type": "code",
      "execution_count": 10,
      "id": "cf5a4b55",
      "metadata": {
        "id": "cf5a4b55"
      },
      "outputs": [],
      "source": [
        "\n",
        "def crear_dataframe(diccionario):\n",
        "    \"\"\"\n",
        "    Crea un DataFrame a partir de un diccionario.\n",
        "\n",
        "    >>> df = crear_dataframe({'a': [1, 2], 'b': [3, 4]})\n",
        "    >>> df.shape\n",
        "    (2, 2)\n",
        "    >>> list(df.columns)\n",
        "    ['a', 'b']\n",
        "    \"\"\"\n",
        "    assert isinstance(diccionario, dict), \"La entrada debe ser un diccionario\"\n",
        "    return pd.DataFrame(diccionario)\n",
        "\n"
      ]
    },
    {
      "cell_type": "code",
      "execution_count": 12,
      "id": "f5bae9e7",
      "metadata": {
        "id": "f5bae9e7"
      },
      "outputs": [],
      "source": [
        "\n",
        "def seleccionar_columna(df, columna):\n",
        "    \"\"\"\n",
        "    Selecciona una columna de un DataFrame.\n",
        "\n",
        "    >>> df = pd.DataFrame({'x': [10, 20], 'y': [30, 40]})\n",
        "    >>> seleccionar_columna(df, 'x').tolist()\n",
        "    [10, 20]\n",
        "    \"\"\"\n",
        "    assert columna in df.columns, f\"La columna '{columna}' no existe en el DataFrame\"\n",
        "    return df[columna]\n",
        "\n"
      ]
    },
    {
      "cell_type": "code",
      "execution_count": 13,
      "id": "9eb7062f",
      "metadata": {
        "id": "9eb7062f"
      },
      "outputs": [],
      "source": [
        "\n",
        "def filtrar_por_condicion(df, columna, valor):\n",
        "    \"\"\"\n",
        "    Filtra filas donde la columna es mayor que el valor dado.\n",
        "\n",
        "    >>> df = pd.DataFrame({'edad': [15, 25, 35]})\n",
        "    >>> filtrar_por_condicion(df, 'edad', 20)['edad'].tolist()\n",
        "    [25, 35]\n",
        "    \"\"\"\n",
        "    assert columna in df.columns, f\"La columna '{columna}' no existe en el DataFrame\"\n",
        "    return df[df[columna] > valor]\n",
        "\n"
      ]
    },
    {
      "cell_type": "code",
      "execution_count": 14,
      "id": "febcbfad",
      "metadata": {
        "id": "febcbfad"
      },
      "outputs": [],
      "source": [
        "\n",
        "def agregar_columna(df, nueva_columna, valores):\n",
        "    \"\"\"\n",
        "    Agrega una nueva columna al DataFrame.\n",
        "\n",
        "    >>> df = pd.DataFrame({'a': [1, 2]})\n",
        "    >>> agregar_columna(df, 'b', [3, 4])['b'].tolist()\n",
        "    [3, 4]\n",
        "    \"\"\"\n",
        "    assert len(valores) == len(df), \"La longitud de los valores debe coincidir con el número de filas en el DataFrame\"\n",
        "    df[nueva_columna] = valores\n",
        "    return df\n",
        "\n",
        "\n"
      ]
    },
    {
      "cell_type": "code",
      "execution_count": 19,
      "id": "4d778cab",
      "metadata": {
        "id": "4d778cab"
      },
      "outputs": [],
      "source": [
        "\n",
        "def crear_indexacion_jerarquica():\n",
        "    \"\"\"\n",
        "    Crea una Serie con indexación jerárquica.\n",
        "\n",
        "    >>> s = crear_indexacion_jerarquica()\n",
        "    >>> s.loc['a', 1]\n",
        "    1\n",
        "    \"\"\"\n",
        "    s = pd.Series(range(1, 5), index=[['a', 'a', 'b', 'b'], [1, 2, 1, 2]])\n",
        "    return s\n",
        ""
      ]
    },
    {
      "cell_type": "code",
      "execution_count": 20,
      "id": "c1c34cf9",
      "metadata": {
        "id": "c1c34cf9"
      },
      "outputs": [],
      "source": [
        "\n",
        "def suma_columnas(df, col1, col2):\n",
        "    \"\"\"\n",
        "    Suma dos columnas de un DataFrame.\n",
        "\n",
        "    >>> df = pd.DataFrame({'x': [1, 2], 'y': [3, 4]})\n",
        "    >>> suma_columnas(df, 'x', 'y').tolist()\n",
        "    [4, 6]\n",
        "    \"\"\"\n",
        "    assert col1 in df.columns and col2 in df.columns, f\"Las columnas '{col1}' y '{col2}' no existen en el DataFrame\"\n",
        "    return df[col1] + df[col2]\n",
        "\n"
      ]
    },
    {
      "cell_type": "code",
      "execution_count": 21,
      "id": "4bd414a1",
      "metadata": {
        "id": "4bd414a1"
      },
      "outputs": [],
      "source": [
        "\n",
        "def rellenar_nulos(df, valor):\n",
        "    \"\"\"\n",
        "    Rellena valores nulos con un valor dado.\n",
        "\n",
        "    >>> df = pd.DataFrame({'a': [1, None, 3]})\n",
        "    >>> rellenar_nulos(df, 0)['a'].tolist()\n",
        "    [1.0, 0.0, 3.0]\n",
        "    \"\"\"\n",
        "    df.fillna(valor, inplace=True)\n",
        "    return df\n"
      ]
    },
    {
      "cell_type": "code",
      "execution_count": 22,
      "id": "855a0a63",
      "metadata": {
        "id": "855a0a63"
      },
      "outputs": [],
      "source": [
        "\n",
        "def agrupar_y_promediar(df, columna_agrupacion, columna_valores):\n",
        "    \"\"\"\n",
        "    Agrupa por una columna y calcula el promedio de otra.\n",
        "\n",
        "    >>> df = pd.DataFrame({'grupo': ['A', 'A', 'B', 'B'], 'valor': [10, 20, 30, 40]})\n",
        "    >>> resultado = agrupar_y_promediar(df, 'grupo', 'valor')\n",
        "    >>> resultado['A'] == 15 and resultado['B'] == 35\n",
        "    True\n",
        "    \"\"\"\n",
        "    return df.groupby(columna_agrupacion)[columna_valores].mean()\n"
      ]
    },
    {
      "cell_type": "code",
      "source": [
        "\n",
        "def ordenar_dataframe(df, columna):\n",
        "    \"\"\"\n",
        "    Ordena un DataFrame por una columna.\n",
        "\n",
        "    >>> df = pd.DataFrame({'a': [3, 1, 2]})\n",
        "    >>> ordenar_dataframe(df, 'a')['a'].tolist()\n",
        "    [1, 2, 3]\n",
        "    \"\"\"\n",
        "    assert columna in df.columns, f\"La columna '{columna}' no existe en el DataFrame\"\n",
        "    return df.sort_values(by=columna)\n",
        ""
      ],
      "metadata": {
        "id": "tQFI-vW072Tt"
      },
      "id": "tQFI-vW072Tt",
      "execution_count": 24,
      "outputs": []
    },
    {
      "cell_type": "code",
      "execution_count": 25,
      "metadata": {
        "id": "743d4a4b"
      },
      "outputs": [],
      "source": [
        "def combinar_dataframes(df1, df2, clave):\n",
        "    \"\"\"\n",
        "    Combina dos DataFrames usando merge por una clave.\n",
        "\n",
        "    >>> df1 = pd.DataFrame({'id': [1, 2], 'valor': ['A', 'B']})\n",
        "    >>> df2 = pd.DataFrame({'id': [1, 2], 'extra': ['X', 'Y']})\n",
        "    >>> combinado = combinar_dataframes(df1, df2, 'id')\n",
        "    >>> combinado.shape\n",
        "    (2, 3)\n",
        "    \"\"\"\n",
        "    return pd.merge(df1, df2, on=clave)\n"
      ],
      "id": "743d4a4b"
    },
    {
      "cell_type": "code",
      "source": [
        "def concatenar_dataframes(lista_df):\n",
        "    \"\"\"\n",
        "    Concatena una lista de DataFrames.\n",
        "\n",
        "    >>> df1 = pd.DataFrame({'a': [1]})\n",
        "    >>> df2 = pd.DataFrame({'a': [2]})\n",
        "    >>> concatenado = concatenar_dataframes([df1, df2])\n",
        "    >>> concatenado['a'].tolist()\n",
        "    [1, 2]\n",
        "    \"\"\"\n",
        "    assert all(isinstance(df, pd.DataFrame) for df in lista_df), \"Todos los elementos de la lista deben ser DataFrames\"\n",
        "    return pd.concat(lista_df)"
      ],
      "metadata": {
        "id": "XnSJTsNV8J6Z"
      },
      "id": "XnSJTsNV8J6Z",
      "execution_count": 26,
      "outputs": []
    },
    {
      "cell_type": "code",
      "source": [
        "def transformar_tipo(df, columna, tipo):\n",
        "    \"\"\"\n",
        "    Transforma el tipo de datos de una columna.\n",
        "\n",
        "    >>> df = pd.DataFrame({'a': ['1', '2']})\n",
        "    >>> transformar_tipo(df, 'a', int)['a'].tolist()\n",
        "    [1, 2]\n",
        "    \"\"\"\n",
        "    s = df[columna].astype(tipo)\n",
        "    return s\n"
      ],
      "metadata": {
        "id": "IZ80_Xz-8N40"
      },
      "id": "IZ80_Xz-8N40",
      "execution_count": 27,
      "outputs": []
    },
    {
      "cell_type": "code",
      "execution_count": 28,
      "id": "72bc16dd",
      "metadata": {
        "colab": {
          "base_uri": "https://localhost:8080/"
        },
        "id": "72bc16dd",
        "outputId": "6d657d38-dc66-4373-df64-c23ce4b1beef"
      },
      "outputs": [
        {
          "output_type": "stream",
          "name": "stdout",
          "text": [
            "Trying:\n",
            "    df = pd.DataFrame({'a': [1, 2]})\n",
            "Expecting nothing\n",
            "ok\n",
            "Trying:\n",
            "    agregar_columna(df, 'b', [3, 4])['b'].tolist()\n",
            "Expecting:\n",
            "    [3, 4]\n",
            "ok\n",
            "Trying:\n",
            "    df = pd.DataFrame({'grupo': ['A', 'A', 'B', 'B'], 'valor': [10, 20, 30, 40]})\n",
            "Expecting nothing\n",
            "ok\n",
            "Trying:\n",
            "    resultado = agrupar_y_promediar(df, 'grupo', 'valor')\n",
            "Expecting nothing\n",
            "ok\n",
            "Trying:\n",
            "    resultado['A'] == 15 and resultado['B'] == 35\n",
            "Expecting:\n",
            "    True\n",
            "**********************************************************************\n",
            "File \"__main__\", line 7, in __main__.agrupar_y_promediar\n",
            "Failed example:\n",
            "    resultado['A'] == 15 and resultado['B'] == 35\n",
            "Expected:\n",
            "    True\n",
            "Got:\n",
            "    np.True_\n",
            "Trying:\n",
            "    df1 = pd.DataFrame({'id': [1, 2], 'valor': ['A', 'B']})\n",
            "Expecting nothing\n",
            "ok\n",
            "Trying:\n",
            "    df2 = pd.DataFrame({'id': [1, 2], 'extra': ['X', 'Y']})\n",
            "Expecting nothing\n",
            "ok\n",
            "Trying:\n",
            "    combinado = combinar_dataframes(df1, df2, 'id')\n",
            "Expecting nothing\n",
            "ok\n",
            "Trying:\n",
            "    combinado.shape\n",
            "Expecting:\n",
            "    (2, 3)\n",
            "ok\n",
            "Trying:\n",
            "    df1 = pd.DataFrame({'a': [1]})\n",
            "Expecting nothing\n",
            "ok\n",
            "Trying:\n",
            "    df2 = pd.DataFrame({'a': [2]})\n",
            "Expecting nothing\n",
            "ok\n",
            "Trying:\n",
            "    concatenado = concatenar_dataframes([df1, df2])\n",
            "Expecting nothing\n",
            "ok\n",
            "Trying:\n",
            "    concatenado['a'].tolist()\n",
            "Expecting:\n",
            "    [1, 2]\n",
            "ok\n",
            "Trying:\n",
            "    df = crear_dataframe({'a': [1, 2], 'b': [3, 4]})\n",
            "Expecting nothing\n",
            "ok\n",
            "Trying:\n",
            "    df.shape\n",
            "Expecting:\n",
            "    (2, 2)\n",
            "ok\n",
            "Trying:\n",
            "    list(df.columns)\n",
            "Expecting:\n",
            "    ['a', 'b']\n",
            "ok\n",
            "Trying:\n",
            "    s = crear_indexacion_jerarquica()\n",
            "Expecting nothing\n",
            "ok\n",
            "Trying:\n",
            "    s.loc['a', 1]\n",
            "Expecting:\n",
            "    1\n",
            "**********************************************************************\n",
            "File \"__main__\", line 6, in __main__.crear_indexacion_jerarquica\n",
            "Failed example:\n",
            "    s.loc['a', 1]\n",
            "Expected:\n",
            "    1\n",
            "Got:\n",
            "    np.int64(1)\n",
            "Trying:\n",
            "    crear_serie([1, 2, 3]).tolist()\n",
            "Expecting:\n",
            "    [1, 2, 3]\n",
            "ok\n",
            "Trying:\n",
            "    df = pd.DataFrame({'edad': [15, 25, 35]})\n",
            "Expecting nothing\n",
            "ok\n",
            "Trying:\n",
            "    filtrar_por_condicion(df, 'edad', 20)['edad'].tolist()\n",
            "Expecting:\n",
            "    [25, 35]\n",
            "ok\n",
            "Trying:\n",
            "    df = pd.DataFrame({'a': [3, 1, 2]})\n",
            "Expecting nothing\n",
            "ok\n",
            "Trying:\n",
            "    ordenar_dataframe(df, 'a')['a'].tolist()\n",
            "Expecting:\n",
            "    [1, 2, 3]\n",
            "ok\n",
            "Trying:\n",
            "    df = pd.DataFrame({'a': [1, None, 3]})\n",
            "Expecting nothing\n",
            "ok\n",
            "Trying:\n",
            "    rellenar_nulos(df, 0)['a'].tolist()\n",
            "Expecting:\n",
            "    [1.0, 0.0, 3.0]\n",
            "ok\n",
            "Trying:\n",
            "    df = pd.DataFrame({'x': [10, 20], 'y': [30, 40]})\n",
            "Expecting nothing\n",
            "ok\n",
            "Trying:\n",
            "    seleccionar_columna(df, 'x').tolist()\n",
            "Expecting:\n",
            "    [10, 20]\n",
            "ok\n",
            "Trying:\n",
            "    df = pd.DataFrame({'x': [1, 2], 'y': [3, 4]})\n",
            "Expecting nothing\n",
            "ok\n",
            "Trying:\n",
            "    suma_columnas(df, 'x', 'y').tolist()\n",
            "Expecting:\n",
            "    [4, 6]\n",
            "ok\n",
            "Trying:\n",
            "    df = pd.DataFrame({'a': ['1', '2']})\n",
            "Expecting nothing\n",
            "ok\n",
            "Trying:\n",
            "    transformar_tipo(df, 'a', int)['a'].tolist()\n",
            "Expecting:\n",
            "    [1, 2]\n",
            "**********************************************************************\n",
            "File \"__main__\", line 6, in __main__.transformar_tipo\n",
            "Failed example:\n",
            "    transformar_tipo(df, 'a', int)['a'].tolist()\n",
            "Exception raised:\n",
            "    Traceback (most recent call last):\n",
            "      File \"/usr/lib/python3.12/doctest.py\", line 1368, in __run\n",
            "        exec(compile(example.source, filename, \"single\",\n",
            "      File \"<doctest __main__.transformar_tipo[1]>\", line 1, in <module>\n",
            "        transformar_tipo(df, 'a', int)['a'].tolist()\n",
            "        ~~~~~~~~~~~~~~~~~~~~~~~~~~~~~~^^^^^\n",
            "      File \"/usr/local/lib/python3.12/dist-packages/pandas/core/series.py\", line 1121, in __getitem__\n",
            "        return self._get_value(key)\n",
            "               ^^^^^^^^^^^^^^^^^^^^\n",
            "      File \"/usr/local/lib/python3.12/dist-packages/pandas/core/series.py\", line 1237, in _get_value\n",
            "        loc = self.index.get_loc(label)\n",
            "              ^^^^^^^^^^^^^^^^^^^^^^^^^\n",
            "      File \"/usr/local/lib/python3.12/dist-packages/pandas/core/indexes/range.py\", line 417, in get_loc\n",
            "        raise KeyError(key)\n",
            "    KeyError: 'a'\n",
            "1 items had no tests:\n",
            "    __main__\n",
            "10 items passed all tests:\n",
            "   2 tests in __main__.agregar_columna\n",
            "   4 tests in __main__.combinar_dataframes\n",
            "   4 tests in __main__.concatenar_dataframes\n",
            "   3 tests in __main__.crear_dataframe\n",
            "   1 tests in __main__.crear_serie\n",
            "   2 tests in __main__.filtrar_por_condicion\n",
            "   2 tests in __main__.ordenar_dataframe\n",
            "   2 tests in __main__.rellenar_nulos\n",
            "   2 tests in __main__.seleccionar_columna\n",
            "   2 tests in __main__.suma_columnas\n",
            "**********************************************************************\n",
            "3 items had failures:\n",
            "   1 of   3 in __main__.agrupar_y_promediar\n",
            "   1 of   2 in __main__.crear_indexacion_jerarquica\n",
            "   1 of   2 in __main__.transformar_tipo\n",
            "31 tests in 14 items.\n",
            "28 passed and 3 failed.\n",
            "***Test Failed*** 3 failures.\n"
          ]
        },
        {
          "output_type": "execute_result",
          "data": {
            "text/plain": [
              "TestResults(failed=3, attempted=31)"
            ]
          },
          "metadata": {},
          "execution_count": 28
        }
      ],
      "source": [
        "\n",
        "# Ejecutar pruebas doctest\n",
        "import doctest\n",
        "import __main__\n",
        "doctest.testmod(__main__, verbose=True)\n"
      ]
    }
  ],
  "metadata": {
    "colab": {
      "provenance": [],
      "include_colab_link": true
    },
    "language_info": {
      "name": "python"
    },
    "kernelspec": {
      "name": "python3",
      "display_name": "Python 3"
    }
  },
  "nbformat": 4,
  "nbformat_minor": 5
}